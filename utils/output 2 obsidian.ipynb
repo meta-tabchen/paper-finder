{
 "cells": [
  {
   "cell_type": "code",
   "execution_count": 1,
   "metadata": {},
   "outputs": [],
   "source": [
    "import pandas as pd"
   ]
  },
  {
   "cell_type": "code",
   "execution_count": 2,
   "metadata": {},
   "outputs": [],
   "source": [
    "df = pd.read_csv('kt_result.csv')"
   ]
  },
  {
   "cell_type": "code",
   "execution_count": 3,
   "metadata": {},
   "outputs": [
    {
     "name": "stdout",
     "output_type": "stream",
     "text": [
      "# 2017\n",
      "[[Dynamic Key-Value Memory Networks for Knowledge Tracing]].WWW.2017\n",
      "[[Modeling of Human Movement Behavioral Knowledge from GPS Traces for Categorizing Mobile Users]].WWW.2017\n",
      "\n",
      "# 2018\n",
      "[[Improving Knowledge Tracing Model by Integrating Problem Difficulty]].ICDM Workshops.2018\n",
      "[[End-to-End Deep Knowledge Tracing by Learning Binary Question-Embedding]].ICDM Workshops.2018\n",
      "[[Deep Knowledge Tracing and Dynamic Student Classification for Knowledge Tracing]].ICDM.2018\n",
      "[[Prerequisite-Driven Deep Knowledge Tracing]].ICDM.2018\n",
      "\n",
      "# 2019\n",
      "[[Tracy - Tracing Facts over Knowledge Graphs and Text]].WWW.2019\n",
      "[[Augmenting Knowledge Tracing by Considering Forgetting Behavior]].WWW.2019\n",
      "[[Knowledge Tracing with Sequential Key-Value Memory Networks]].SIGIR.2019\n",
      "[[Field-Aware Knowledge Tracing Machine by Modelling Students&apos; Dynamic Learning Procedure and Item Difficulty]].ICDM Workshops.2019\n",
      "[[Knowledge Tracing Machines - Factorization Machines for Knowledge Tracing]].AAAI.2019\n",
      "\n",
      "# 2020\n",
      "[[Convolutional Knowledge Tracing - Modeling Individualization in Student Learning Process]].SIGIR.2020\n",
      "[[Context-Aware Attentive Knowledge Tracing]].KDD.2020\n",
      "[[Improving Knowledge Tracing via Pre-training Question Embeddings]].IJCAI.2020\n",
      "[[Structure-based Knowledge Tracing - An Influence Propagation View]].ICDM.2020\n",
      "[[RKT - Relation-Aware Self-Attention for Knowledge Tracing]].CIKM.2020\n",
      "\n",
      "# 2021\n",
      "[[Tracing Knowledge State with Individual Cognition and Acquisition Estimation]].SIGIR.2021\n",
      "[[Learning Process-consistent Knowledge Tracing]].KDD.2021\n",
      "[[Multi-Factors Aware Dual-Attentional Knowledge Tracing]].CIKM.2021\n",
      "\n"
     ]
    }
   ],
   "source": [
    "for year,group in df.groupby(\"year\"):\n",
    "    print(f\"# {year}\")\n",
    "    for _,row in group.iterrows():\n",
    "        print(f\"[[{row['title']}]].{row['venue']}.{row['year']}\")\n",
    "    print(\"\")"
   ]
  }
 ],
 "metadata": {
  "kernelspec": {
   "display_name": "Python 3",
   "language": "python",
   "name": "python3"
  },
  "language_info": {
   "codemirror_mode": {
    "name": "ipython",
    "version": 3
   },
   "file_extension": ".py",
   "mimetype": "text/x-python",
   "name": "python",
   "nbconvert_exporter": "python",
   "pygments_lexer": "ipython3",
   "version": "3.7.4"
  },
  "toc": {
   "base_numbering": 1,
   "nav_menu": {},
   "number_sections": true,
   "sideBar": true,
   "skip_h1_title": false,
   "title_cell": "Table of Contents",
   "title_sidebar": "Contents",
   "toc_cell": false,
   "toc_position": {},
   "toc_section_display": true,
   "toc_window_display": false
  }
 },
 "nbformat": 4,
 "nbformat_minor": 2
}
