{
 "cells": [
  {
   "cell_type": "code",
   "execution_count": 1,
   "id": "3fc95204",
   "metadata": {},
   "outputs": [],
   "source": [
    "import os\n",
    "import pandas as pd"
   ]
  },
  {
   "cell_type": "code",
   "execution_count": 2,
   "id": "a722c4a7",
   "metadata": {},
   "outputs": [
    {
     "data": {
      "text/plain": [
       "67"
      ]
     },
     "execution_count": 2,
     "metadata": {},
     "output_type": "execute_result"
    }
   ],
   "source": [
    "df = pd.read_excel(\"paper_list.xlsx\")\n",
    "len(df)"
   ]
  },
  {
   "cell_type": "code",
   "execution_count": 3,
   "id": "72a5322e",
   "metadata": {},
   "outputs": [],
   "source": [
    "def clean_title(title):\n",
    "    title = title.strip().strip(\".\")\n",
    "    title = title.replace(\";\",\" \").replace(\"?\",\" \").replace(\": \",\" \")\n",
    "    title = title.strip()\n",
    "    return title"
   ]
  },
  {
   "cell_type": "code",
   "execution_count": 4,
   "id": "9b5053e8",
   "metadata": {},
   "outputs": [],
   "source": [
    "pattern_path = 'patterns/paper_reading.md'\n",
    "save_dir = 'output/'\n",
    "tag = 'kt'\n",
    "os.makedirs(save_dir,exist_ok=True)\n",
    "pattern = open(pattern_path).read()"
   ]
  },
  {
   "cell_type": "code",
   "execution_count": 5,
   "id": "85647c71",
   "metadata": {
    "scrolled": true
   },
   "outputs": [
    {
     "name": "stdout",
     "output_type": "stream",
     "text": [
      "### 2015\n",
      "\n",
      "[[Spectral Bayesian Knowledge Tracing]].2015.EDM\n",
      "[[Defining Mastery Knowledge Tracing Versus N- Consecutive Correct Responses]].2015.EDM\n",
      "[[On the Performance Characteristics of Latent-Factor and Knowledge Tracing Models]].2015.EDM\n",
      "[[Evaluating Educational Videos using Bayesian Knowledge Tracing and Big Data]].2015.EDM\n",
      "[[Direct Estimation of the Minimum RSS Value for Training Bayesian Knowledge Tracing Parameters]].2015.EDM\n",
      "[[How does Bayesian knowledge tracing model emergence of knowledge about a mechanical system]].2015.LAK\n",
      "[[Tracking student progress in a game-like learning environment with a Monte Carlo Bayesian knowledge tracing model]].2015.LAK\n",
      "\n",
      "### 2016\n",
      "\n",
      "[[Towards Modeling Chunks in a Knowledge Tracing Framework for Students&apos  Deep Learning]].2016.EDM\n",
      "[[A Data-Driven Framework of Modeling Skill Combinations for Deeper Knowledge Tracing]].2016.EDM\n",
      "[[How Deep is Knowledge Tracing]].2016.EDM\n",
      "[[Going Deeper with Deep Knowledge Tracing]].2016.EDM\n",
      "[[Regularizing Student Parameters of Individualized Bayesian Knowledge Tracing Model]].2016.EDM Workshop\n",
      "[[Individualizing Bayesian Knowledge Tracing. Are Skill Parameters More Important Than Student Parameters]].2016.EDM\n",
      "[[Sequencing educational content in classrooms using Bayesian knowledge tracing]].2016.LAK\n",
      "[[Structured Knowledge Tracing Models for Student Assessment on Coursera]].2016.L@S\n",
      "\n",
      "### 2017\n",
      "\n",
      "[[The Misidentified Identifiability Problem of Bayesian Knowledge Tracing]].2017.EDM\n",
      "[[Identifiability of the Bayesian Knowledge Tracing Model]].2017.EDM Workshop\n",
      "[[Deep Knowledge Tracing On Programming Exercises]].2017.L@S\n",
      "[[Incorporating Rich Features into Deep Knowledge Tracing]].2017.L@S\n",
      "\n",
      "### 2018\n",
      "\n",
      "[[Validating Revised Bloom Taxonomy Using Deep Knowledge Tracing]].2018.AIED\n",
      "[[Deep Knowledge Tracing for Free-Form Student Code Progression]].2018.AIED\n",
      "[[Knowledge Tracing Using the Brain]].2018.EDM\n",
      "[[Does Deep Knowledge Tracing Model Interactions Among Skills]].2018.EDM\n",
      "[[Addressing two problems in deep knowledge tracing via prediction-consistent regularization]].2018.L@S\n",
      "\n",
      "### 2019\n",
      "\n",
      "[[Bayesian Diagnosis Tracing Application of Procedural Misconceptions in Knowledge Tracing]].2019.AIED\n",
      "[[What Does Time Tell  Tracing the Forgetting Curve Using Deep Knowledge Tracing]].2019.AIED\n",
      "[[Deep Knowledge Tracing with Side Information]].2019.AIED\n",
      "[[Concept-Aware Deep Knowledge Tracing and Exercise Recommendation in an Online Learning System]].2019.EDM\n",
      "[[Why Deep Knowledge Tracing has less Depth than Anticipated]].2019.EDM\n",
      "[[A Self Attentive model for Knowledge Tracing]].2019.EDM\n",
      "[[Deep Hierarchical Knowledge Tracing]].2019.EDM\n",
      "[[Deep-IRT Make Deep Learning Based Knowledge Tracing Explainable Using Item Response Theory]].2019.EDM\n",
      "[[Knowledge Query Network for Knowledge Tracing How Knowledge Interacts with Skills]].2019.LAK\n",
      "[[Fairer but Not Fair Enough On the Equitability of Knowledge Tracing]].2019.LAK\n",
      "[[Deep Knowledge Tracing and Engagement with MOOCs]].2019.LAK\n",
      "\n",
      "### 2020\n",
      "\n",
      "[[Predicting Learners Need for Recommendation Using Dynamic Graph-Based Knowledge Tracing]].2020.AIED\n",
      "[[Towards Interpretable Deep Learning Models for Knowledge Tracing]].2020.AIED\n",
      "[[Deep Knowledge Tracing with Transformers]].2020.AIED\n",
      "[[Exercise Hierarchical Feature Enhanced Knowledge Tracing]].2020.AIED\n",
      "[[Learning from Interpretable Analysis Attention-Based Knowledge Tracing]].2020.AIED\n",
      "[[Dynamic knowledge tracing through data driven recency weights]].2020.EDM\n",
      "[[qDKT Question-centric Deep Knowledge Tracing]].2020.EDM\n",
      "[[Dynamic Knowledge Embedding and Tracing]].2020.EDM\n",
      "[[Evaluating Bayesian Knowledge Tracing for Estimating Learner Proficiency and Guiding Learner Behavior]].2020.L@S\n",
      "[[Towards an Appropriate Query, Key, and Value Computation for Knowledge Tracing]].2020.L@S\n",
      "[[Automatic RNN Cell Design for Knowledge Tracing using Reinforcement Learning]].2020.L@S\n",
      "[[Cold Start Knowledge Tracing with Attentive Neural Turing Machine]].2020.L@S\n",
      "[[Interpretable Personalized Knowledge Tracing and Next Learning Activity Recommendation]].2020.L@S\n",
      "[[A Novel Approach for Knowledge State Representation and Prediction]].2020.L@S\n",
      "\n",
      "### 2021\n",
      "\n",
      "[[Option Tracing Beyond Correctness Analysis in Knowledge Tracing]].2021.AIED\n",
      "[[Incorporating Item Response Theory into Knowledge Tracing]].2021.AIED\n",
      "[[PAKT A Position-Aware Self-attentive Approach for Knowledge Tracing]].2021.AIED\n",
      "[[Deep Performance Factors Analysis for Knowledge Tracing]].2021.AIED\n",
      "[[Individualization of Bayesian Knowledge Tracing Through Elo-infusion]].2021.AIED\n",
      "[[An Ensemble Approach for Question-Level Knowledge Tracing]].2021.AIED\n",
      "[[Tracing Knowledge for Tracing Dropouts Multi-Task Training for Study Session Dropout Prediction]].2021.EDM\n",
      "[[Context-aware knowledge tracing integrated with the exercise representation and association in mathematics]].2021.EDM\n",
      "[[pyBKT An Accessible Library of Bayesian Knowledge Tracing Models]].2021.EDM\n",
      "[[Behavioral Testing of Deep Knowledge Tracing Models]].2021.EDM\n",
      "[[Learning from Non-Assessed Resources Deep Multi-Type Knowledge Tracing]].2021.EDM\n",
      "[[Effects of Algorithmic Transparency in Bayesian Knowledge Tracing on Trust and Perceived Accuracy]].2021.EDM\n",
      "[[The Cold Start Problem and Interpretation of Knowledge Tracing Models&apos  Predictive Performance]].2021.EDM\n",
      "[[Going Online A simulated student approach for evaluating knowledge tracing in the context of mastery learning]].2021.EDM\n",
      "[[LANA Towards Personalized Deep Knowledge Tracing Through Distinguishable Interactive Sequences]].2021.EDM\n",
      "[[Clickstream Knowledge Tracing Modeling How Students Answer Interactive Online Questions]].2021.LAK\n",
      "[[Variational Deep Knowledge Tracing for Language Learning]].2021.LAK\n",
      "\n",
      "### 2022\n",
      "\n",
      "[[Enhancing Programming Knowledge Tracing by Interacting Programming Skills and Student Code]].2022.LAK\n",
      "\n"
     ]
    }
   ],
   "source": [
    "for year,group in df.groupby(\"year\",sort=True):\n",
    "\n",
    "    print(f\"### {year}\")\n",
    "    print(\"\")\n",
    "    for _,row in group.iterrows():\n",
    "        title = clean_title(row['title'])\n",
    "        venue = row['venue']\n",
    "        year = row['year']\n",
    "        print(f\"[[{title}]].{year}.{venue}\")\n",
    "        md = pattern.replace(\"#venue\",venue).replace(\"#year\",str(year))\n",
    "        md = md.replace(\"#title\",title)\n",
    "        md = md.replace(\"#tag\",tag)\n",
    "        with open(os.path.join(save_dir,f\"{title}.md\"),'w') as f:\n",
    "            f.write(md)\n",
    "    print(\"\")"
   ]
  },
  {
   "cell_type": "code",
   "execution_count": null,
   "id": "e0327e63",
   "metadata": {},
   "outputs": [],
   "source": []
  }
 ],
 "metadata": {
  "kernelspec": {
   "display_name": "Python 3",
   "language": "python",
   "name": "python3"
  },
  "language_info": {
   "codemirror_mode": {
    "name": "ipython",
    "version": 3
   },
   "file_extension": ".py",
   "mimetype": "text/x-python",
   "name": "python",
   "nbconvert_exporter": "python",
   "pygments_lexer": "ipython3",
   "version": "3.6.5"
  },
  "toc": {
   "base_numbering": 1,
   "nav_menu": {},
   "number_sections": true,
   "sideBar": true,
   "skip_h1_title": false,
   "title_cell": "Table of Contents",
   "title_sidebar": "Contents",
   "toc_cell": false,
   "toc_position": {},
   "toc_section_display": true,
   "toc_window_display": false
  }
 },
 "nbformat": 4,
 "nbformat_minor": 5
}
