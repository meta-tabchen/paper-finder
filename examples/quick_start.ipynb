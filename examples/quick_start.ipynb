{
 "cells": [
  {
   "cell_type": "markdown",
   "id": "e3c048c8",
   "metadata": {},
   "source": [
    "## 检索"
   ]
  },
  {
   "cell_type": "code",
   "execution_count": 1,
   "id": "98eacec0",
   "metadata": {},
   "outputs": [],
   "source": [
    "from paper_finder import search"
   ]
  },
  {
   "cell_type": "code",
   "execution_count": 2,
   "id": "04cf83bd",
   "metadata": {
    "scrolled": true
   },
   "outputs": [
    {
     "name": "stderr",
     "output_type": "stream",
     "text": [
      "\r",
      "  0%|          | 0/1 [00:00<?, ?it/s]"
     ]
    },
    {
     "name": "stdout",
     "output_type": "stream",
     "text": [
      "    Start search keyword:ensemble in NeurIPS\n",
      "https://dblp.org/search/publ/api?q=ensemble:venue:NeurIPS:&h=1000&format=json\n"
     ]
    },
    {
     "name": "stderr",
     "output_type": "stream",
     "text": [
      "100%|██████████| 1/1 [00:01<00:00,  1.65s/it]\n"
     ]
    }
   ],
   "source": [
    "keyword_list=['ensemble']\n",
    "venue_list=['NeurIPS']\n",
    "output = \"result.csv\"\n",
    "df = search(keyword_list=keyword_list,venue_list=venue_list,min_year=2021,max_year=2023,output=output)"
   ]
  },
  {
   "cell_type": "code",
   "execution_count": 3,
   "id": "f0a30d56",
   "metadata": {},
   "outputs": [
    {
     "data": {
      "text/plain": [
       "(14, 11)"
      ]
     },
     "execution_count": 3,
     "metadata": {},
     "output_type": "execute_result"
    }
   ],
   "source": [
    "df.shape"
   ]
  },
  {
   "cell_type": "code",
   "execution_count": 4,
   "id": "543d50a9",
   "metadata": {},
   "outputs": [
    {
     "data": {
      "text/html": [
       "<div>\n",
       "<style scoped>\n",
       "    .dataframe tbody tr th:only-of-type {\n",
       "        vertical-align: middle;\n",
       "    }\n",
       "\n",
       "    .dataframe tbody tr th {\n",
       "        vertical-align: top;\n",
       "    }\n",
       "\n",
       "    .dataframe thead th {\n",
       "        text-align: right;\n",
       "    }\n",
       "</style>\n",
       "<table border=\"1\" class=\"dataframe\">\n",
       "  <thead>\n",
       "    <tr style=\"text-align: right;\">\n",
       "      <th></th>\n",
       "      <th>authors</th>\n",
       "      <th>title</th>\n",
       "      <th>venue</th>\n",
       "      <th>pages</th>\n",
       "      <th>year</th>\n",
       "      <th>type</th>\n",
       "      <th>access</th>\n",
       "      <th>key</th>\n",
       "      <th>ee</th>\n",
       "      <th>url</th>\n",
       "      <th>keyword</th>\n",
       "    </tr>\n",
       "  </thead>\n",
       "  <tbody>\n",
       "    <tr>\n",
       "      <th>0</th>\n",
       "      <td>{'author': [{'@pid': '241/6191', 'text': 'Gaon...</td>\n",
       "      <td>Uncertainty-Based Offline Reinforcement Learni...</td>\n",
       "      <td>NeurIPS</td>\n",
       "      <td>7436-7447</td>\n",
       "      <td>2021</td>\n",
       "      <td>Conference and Workshop Papers</td>\n",
       "      <td>open</td>\n",
       "      <td>conf/nips/AnMKS21</td>\n",
       "      <td>https://proceedings.neurips.cc/paper/2021/hash...</td>\n",
       "      <td>https://dblp.org/rec/conf/nips/AnMKS21</td>\n",
       "      <td>ensemble</td>\n",
       "    </tr>\n",
       "  </tbody>\n",
       "</table>\n",
       "</div>"
      ],
      "text/plain": [
       "                                             authors  \\\n",
       "0  {'author': [{'@pid': '241/6191', 'text': 'Gaon...   \n",
       "\n",
       "                                               title    venue      pages  \\\n",
       "0  Uncertainty-Based Offline Reinforcement Learni...  NeurIPS  7436-7447   \n",
       "\n",
       "   year                            type access                key  \\\n",
       "0  2021  Conference and Workshop Papers   open  conf/nips/AnMKS21   \n",
       "\n",
       "                                                  ee  \\\n",
       "0  https://proceedings.neurips.cc/paper/2021/hash...   \n",
       "\n",
       "                                      url   keyword  \n",
       "0  https://dblp.org/rec/conf/nips/AnMKS21  ensemble  "
      ]
     },
     "execution_count": 4,
     "metadata": {},
     "output_type": "execute_result"
    }
   ],
   "source": [
    "df.head(1)"
   ]
  },
  {
   "cell_type": "markdown",
   "id": "55923ed9",
   "metadata": {},
   "source": [
    "## 论文引用\n",
    "\n",
    "**5分钟内只能请求100次**，文献多的话可能会比较慢。"
   ]
  },
  {
   "cell_type": "code",
   "execution_count": 5,
   "id": "387bacf4",
   "metadata": {},
   "outputs": [],
   "source": [
    "from paper_finder import add_details"
   ]
  },
  {
   "cell_type": "code",
   "execution_count": 6,
   "id": "4643f6e1",
   "metadata": {
    "scrolled": true
   },
   "outputs": [
    {
     "name": "stderr",
     "output_type": "stream",
     "text": [
      "2022-12-06 22:04:43.328 | DEBUG    | paper_finder.utils.get_paper_details:get_request:31 - api=https://api.semanticscholar.org/graph/v1/paper/search?query=GeoMol: Torsional Geometric Generation of Molecular 3D Conformer Ensembles&limit=1,num=0\n",
      "2022-12-06 22:04:43.345 | DEBUG    | paper_finder.utils.get_paper_details:get_request:31 - api=https://api.semanticscholar.org/graph/v1/paper/search?query=Spatial Ensemble: a Novel Model Smoothing Mechanism for Student-Teacher Framework&limit=1,num=0\n",
      "2022-12-06 22:04:43.352 | DEBUG    | paper_finder.utils.get_paper_details:get_request:31 - api=https://api.semanticscholar.org/graph/v1/paper/search?query=Repulsive Deep Ensembles are Bayesian&limit=1,num=0\n",
      "2022-12-06 22:04:43.356 | DEBUG    | paper_finder.utils.get_paper_details:get_request:31 - api=https://api.semanticscholar.org/graph/v1/paper/search?query=Detecting Errors and Estimating Accuracy on Unlabeled Data with Self-training Ensembles&limit=1,num=0\n",
      "2022-12-06 22:04:43.658 | DEBUG    | paper_finder.utils.get_paper_details:get_request:31 - api=https://api.semanticscholar.org/graph/v1/paper/search?query=Uncertainty-Based Offline Reinforcement Learning with Diversified Q-Ensemble&limit=1,num=0\n",
      "2022-12-06 22:04:44.198 | DEBUG    | paper_finder.utils.get_paper_details:get_request:31 - api=https://api.semanticscholar.org/graph/v1/paper/53792e8aeed7fd10b964984bbf44780c7a385b3d?fields=title,citations,references,year,abstract,venue,authors,referenceCount,citationCount,num=0\n",
      "2022-12-06 22:04:44.350 | DEBUG    | paper_finder.utils.get_paper_details:get_request:31 - api=https://api.semanticscholar.org/graph/v1/paper/be5491660a61d60606aaec8dc0e7e046fb930110?fields=title,citations,references,year,abstract,venue,authors,referenceCount,citationCount,num=0\n",
      "2022-12-06 22:04:44.360 | DEBUG    | paper_finder.utils.get_paper_details:get_request:31 - api=https://api.semanticscholar.org/graph/v1/paper/47883928702efd21c23a4092e65cbcf9f29970aa?fields=title,citations,references,year,abstract,venue,authors,referenceCount,citationCount,num=0\n",
      "2022-12-06 22:04:44.690 | DEBUG    | paper_finder.utils.get_paper_details:get_request:31 - api=https://api.semanticscholar.org/graph/v1/paper/88d1c8f5b3243ce1bb3d5309b30373a37dbddf17?fields=title,citations,references,year,abstract,venue,authors,referenceCount,citationCount,num=0\n",
      "2022-12-06 22:04:44.859 | DEBUG    | paper_finder.utils.get_paper_details:get_request:31 - api=https://api.semanticscholar.org/graph/v1/paper/search?query=Solving Soft Clustering Ensemble via $k$-Sparse Discrete Wasserstein Barycenter&limit=1,num=0\n",
      "2022-12-06 22:04:44.860 | INFO     | paper_finder.utils.get_paper_details:get_request:33 - start wait\n",
      "2022-12-06 22:04:45.001 | DEBUG    | paper_finder.utils.get_paper_details:get_request:31 - api=https://api.semanticscholar.org/graph/v1/paper/search?query=Uncertainty Quantification and Deep Ensembles&limit=1,num=0\n",
      "2022-12-06 22:04:45.001 | INFO     | paper_finder.utils.get_paper_details:get_request:33 - start wait\n",
      "2022-12-06 22:04:45.036 | DEBUG    | paper_finder.utils.get_paper_details:get_request:31 - api=https://api.semanticscholar.org/graph/v1/paper/search?query=Diversity Matters When Learning From Ensembles&limit=1,num=0\n",
      "2022-12-06 22:04:45.670 | DEBUG    | paper_finder.utils.get_paper_details:get_request:31 - api=https://api.semanticscholar.org/graph/v1/paper/search?query=Scaling Ensemble Distribution Distillation to Many Classes with Proxy Targets&limit=1,num=0\n",
      "2022-12-06 22:04:45.733 | DEBUG    | paper_finder.utils.get_paper_details:get_request:31 - api=https://api.semanticscholar.org/graph/v1/paper/search?query=Representer Point Selection via Local Jacobian Expansion for Post-hoc Classifier Explanation of Deep Neural Networks and Ensemble Models&limit=1,num=0\n",
      "2022-12-06 22:04:45.827 | DEBUG    | paper_finder.utils.get_paper_details:get_request:31 - api=https://api.semanticscholar.org/graph/v1/paper/c6e11fcfd2f2a74f9bb9e540996b4ec4f159b5bf?fields=title,citations,references,year,abstract,venue,authors,referenceCount,citationCount,num=0\n",
      "2022-12-06 22:04:46.621 | DEBUG    | paper_finder.utils.get_paper_details:get_request:31 - api=https://api.semanticscholar.org/graph/v1/paper/search?query=Adaptive Ensemble Q-learning: Minimizing Estimation Bias via Error Feedback&limit=1,num=0\n",
      "2022-12-06 22:04:46.680 | DEBUG    | paper_finder.utils.get_paper_details:get_request:31 - api=https://api.semanticscholar.org/graph/v1/paper/cb85e2b1cd5ef3619348edba4ff169b45e177f94?fields=title,citations,references,year,abstract,venue,authors,referenceCount,citationCount,num=0\n",
      "2022-12-06 22:04:47.095 | DEBUG    | paper_finder.utils.get_paper_details:get_request:31 - api=https://api.semanticscholar.org/graph/v1/paper/2950c50fdc7b9956f0a8ab3a3aa0d09fe039d111?fields=title,citations,references,year,abstract,venue,authors,referenceCount,citationCount,num=0\n",
      "2022-12-06 22:04:47.426 | DEBUG    | paper_finder.utils.get_paper_details:get_request:31 - api=https://api.semanticscholar.org/graph/v1/paper/4b4ec8a7994f466b305244ac550526f704748898?fields=title,citations,references,year,abstract,venue,authors,referenceCount,citationCount,num=0\n",
      "2022-12-06 22:04:48.458 | DEBUG    | paper_finder.utils.get_paper_details:get_request:31 - api=https://api.semanticscholar.org/graph/v1/paper/search?query=Uncertainty Calibration for Ensemble-Based Debiasing Methods&limit=1,num=0\n",
      "2022-12-06 22:04:48.501 | DEBUG    | paper_finder.utils.get_paper_details:get_request:31 - api=https://api.semanticscholar.org/graph/v1/paper/search?query=TRS: Transferability Reduced Ensemble via Promoting Gradient Diversity and Model Smoothness&limit=1,num=0\n",
      "2022-12-06 22:04:48.926 | DEBUG    | paper_finder.utils.get_paper_details:get_request:31 - api=https://api.semanticscholar.org/graph/v1/paper/search?query=Neural Ensemble Search for Uncertainty Estimation and Dataset Shift&limit=1,num=0\n",
      "2022-12-06 22:04:49.221 | DEBUG    | paper_finder.utils.get_paper_details:get_request:31 - api=https://api.semanticscholar.org/graph/v1/paper/a822d93a8cd98cf47b69d9242f07acb1e14385c7?fields=title,citations,references,year,abstract,venue,authors,referenceCount,citationCount,num=0\n",
      "2022-12-06 22:04:49.312 | DEBUG    | paper_finder.utils.get_paper_details:get_request:31 - api=https://api.semanticscholar.org/graph/v1/paper/c0bff3ffa676c3b69d443527a928f3e1ba37da19?fields=title,citations,references,year,abstract,venue,authors,referenceCount,citationCount,num=0\n",
      "2022-12-06 22:04:50.015 | DEBUG    | paper_finder.utils.get_paper_details:get_request:31 - api=https://api.semanticscholar.org/graph/v1/paper/53ca11e0393ab21b6021eb6cf8ab9d3d8eef4081?fields=title,citations,references,year,abstract,venue,authors,referenceCount,citationCount,num=0\n",
      "2022-12-06 22:05:46.121 | DEBUG    | paper_finder.utils.get_paper_details:get_request:31 - api=https://api.semanticscholar.org/graph/v1/paper/search?query=Uncertainty Quantification and Deep Ensembles&limit=1,num=1\n",
      "2022-12-06 22:05:46.942 | DEBUG    | paper_finder.utils.get_paper_details:get_request:31 - api=https://api.semanticscholar.org/graph/v1/paper/0cd2bbe237eb54ad36f79a1423d84c1692ba189f?fields=title,citations,references,year,abstract,venue,authors,referenceCount,citationCount,num=0\n",
      "2022-12-06 22:05:48.977 | DEBUG    | paper_finder.utils.get_paper_details:get_request:31 - api=https://api.semanticscholar.org/graph/v1/paper/search?query=Solving Soft Clustering Ensemble via $k$-Sparse Discrete Wasserstein Barycenter&limit=1,num=1\n",
      "2022-12-06 22:05:50.197 | DEBUG    | paper_finder.utils.get_paper_details:get_request:31 - api=https://api.semanticscholar.org/graph/v1/paper/f79e5202d5805602eebab2b8466e11546c186505?fields=title,citations,references,year,abstract,venue,authors,referenceCount,citationCount,num=0\n"
     ]
    }
   ],
   "source": [
    "df = add_details(df,output=output.replace(\".csv\",\"_增加引用.csv\"))"
   ]
  },
  {
   "cell_type": "code",
   "execution_count": 7,
   "id": "0d02ba5e",
   "metadata": {},
   "outputs": [
    {
     "data": {
      "text/html": [
       "<div>\n",
       "<style scoped>\n",
       "    .dataframe tbody tr th:only-of-type {\n",
       "        vertical-align: middle;\n",
       "    }\n",
       "\n",
       "    .dataframe tbody tr th {\n",
       "        vertical-align: top;\n",
       "    }\n",
       "\n",
       "    .dataframe thead th {\n",
       "        text-align: right;\n",
       "    }\n",
       "</style>\n",
       "<table border=\"1\" class=\"dataframe\">\n",
       "  <thead>\n",
       "    <tr style=\"text-align: right;\">\n",
       "      <th></th>\n",
       "      <th>title</th>\n",
       "      <th>abstract</th>\n",
       "      <th>citationCount</th>\n",
       "    </tr>\n",
       "  </thead>\n",
       "  <tbody>\n",
       "    <tr>\n",
       "      <th>0</th>\n",
       "      <td>Uncertainty-Based Offline Reinforcement Learni...</td>\n",
       "      <td>-</td>\n",
       "      <td>-</td>\n",
       "    </tr>\n",
       "    <tr>\n",
       "      <th>1</th>\n",
       "      <td>Detecting Errors and Estimating Accuracy on Un...</td>\n",
       "      <td>When a deep learning model is deployed in the ...</td>\n",
       "      <td>15</td>\n",
       "    </tr>\n",
       "    <tr>\n",
       "      <th>2</th>\n",
       "      <td>Repulsive Deep Ensembles are Bayesian</td>\n",
       "      <td>Deep ensembles have recently gained popularity...</td>\n",
       "      <td>30</td>\n",
       "    </tr>\n",
       "    <tr>\n",
       "      <th>3</th>\n",
       "      <td>GeoMol: Torsional Geometric Generation of Mole...</td>\n",
       "      <td>Prediction of a molecule’s 3D conformer ensemb...</td>\n",
       "      <td>33</td>\n",
       "    </tr>\n",
       "    <tr>\n",
       "      <th>4</th>\n",
       "      <td>Spatial Ensemble: a Novel Model Smoothing Mech...</td>\n",
       "      <td>Model smoothing is of central importance for o...</td>\n",
       "      <td>1</td>\n",
       "    </tr>\n",
       "    <tr>\n",
       "      <th>5</th>\n",
       "      <td>Diversity Matters When Learning From Ensembles</td>\n",
       "      <td>Deep ensembles excel in large-scale image clas...</td>\n",
       "      <td>7</td>\n",
       "    </tr>\n",
       "    <tr>\n",
       "      <th>6</th>\n",
       "      <td>Solving Soft Clustering Ensemble via $k$-Spars...</td>\n",
       "      <td>Clustering ensemble is one of the most importa...</td>\n",
       "      <td>0</td>\n",
       "    </tr>\n",
       "    <tr>\n",
       "      <th>7</th>\n",
       "      <td>Uncertainty Quantification and Deep Ensembles</td>\n",
       "      <td>Deep Learning methods are known to suffer from...</td>\n",
       "      <td>31</td>\n",
       "    </tr>\n",
       "    <tr>\n",
       "      <th>8</th>\n",
       "      <td>Scaling Ensemble Distribution Distillation to ...</td>\n",
       "      <td>Ensembles of machine learning models yield imp...</td>\n",
       "      <td>6</td>\n",
       "    </tr>\n",
       "    <tr>\n",
       "      <th>9</th>\n",
       "      <td>Representer Point Selection via Local Jacobian...</td>\n",
       "      <td>None</td>\n",
       "      <td>2</td>\n",
       "    </tr>\n",
       "    <tr>\n",
       "      <th>10</th>\n",
       "      <td>Adaptive Ensemble Q-learning: Minimizing Estim...</td>\n",
       "      <td>The ensemble method is a promising way to miti...</td>\n",
       "      <td>2</td>\n",
       "    </tr>\n",
       "    <tr>\n",
       "      <th>11</th>\n",
       "      <td>Uncertainty Calibration for Ensemble-Based Deb...</td>\n",
       "      <td>Ensemble-based debiasing methods have been sho...</td>\n",
       "      <td>7</td>\n",
       "    </tr>\n",
       "    <tr>\n",
       "      <th>12</th>\n",
       "      <td>TRS: Transferability Reduced Ensemble via Prom...</td>\n",
       "      <td>Adversarial Transferability is an intriguing p...</td>\n",
       "      <td>17</td>\n",
       "    </tr>\n",
       "    <tr>\n",
       "      <th>13</th>\n",
       "      <td>Neural Ensemble Search for Uncertainty Estimat...</td>\n",
       "      <td>Ensembles of neural networks achieve superior ...</td>\n",
       "      <td>26</td>\n",
       "    </tr>\n",
       "  </tbody>\n",
       "</table>\n",
       "</div>"
      ],
      "text/plain": [
       "                                                title  \\\n",
       "0   Uncertainty-Based Offline Reinforcement Learni...   \n",
       "1   Detecting Errors and Estimating Accuracy on Un...   \n",
       "2               Repulsive Deep Ensembles are Bayesian   \n",
       "3   GeoMol: Torsional Geometric Generation of Mole...   \n",
       "4   Spatial Ensemble: a Novel Model Smoothing Mech...   \n",
       "5      Diversity Matters When Learning From Ensembles   \n",
       "6   Solving Soft Clustering Ensemble via $k$-Spars...   \n",
       "7       Uncertainty Quantification and Deep Ensembles   \n",
       "8   Scaling Ensemble Distribution Distillation to ...   \n",
       "9   Representer Point Selection via Local Jacobian...   \n",
       "10  Adaptive Ensemble Q-learning: Minimizing Estim...   \n",
       "11  Uncertainty Calibration for Ensemble-Based Deb...   \n",
       "12  TRS: Transferability Reduced Ensemble via Prom...   \n",
       "13  Neural Ensemble Search for Uncertainty Estimat...   \n",
       "\n",
       "                                             abstract citationCount  \n",
       "0                                                   -             -  \n",
       "1   When a deep learning model is deployed in the ...            15  \n",
       "2   Deep ensembles have recently gained popularity...            30  \n",
       "3   Prediction of a molecule’s 3D conformer ensemb...            33  \n",
       "4   Model smoothing is of central importance for o...             1  \n",
       "5   Deep ensembles excel in large-scale image clas...             7  \n",
       "6   Clustering ensemble is one of the most importa...             0  \n",
       "7   Deep Learning methods are known to suffer from...            31  \n",
       "8   Ensembles of machine learning models yield imp...             6  \n",
       "9                                                None             2  \n",
       "10  The ensemble method is a promising way to miti...             2  \n",
       "11  Ensemble-based debiasing methods have been sho...             7  \n",
       "12  Adversarial Transferability is an intriguing p...            17  \n",
       "13  Ensembles of neural networks achieve superior ...            26  "
      ]
     },
     "execution_count": 7,
     "metadata": {},
     "output_type": "execute_result"
    }
   ],
   "source": [
    "df[['title','abstract','citationCount']]"
   ]
  },
  {
   "cell_type": "markdown",
   "id": "21d4cc8b",
   "metadata": {},
   "source": [
    "## 查看是否有代码"
   ]
  },
  {
   "cell_type": "code",
   "execution_count": 8,
   "id": "e26797da",
   "metadata": {},
   "outputs": [],
   "source": [
    "from paper_finder import add_opensource_url"
   ]
  },
  {
   "cell_type": "code",
   "execution_count": 9,
   "id": "7bbc413c",
   "metadata": {},
   "outputs": [
    {
     "name": "stderr",
     "output_type": "stream",
     "text": [
      "  0%|          | 0/14 [00:00<?, ?it/s]2022-12-06 22:05:50.222 | INFO     | paper_finder.utils.paper_with_code_api:add_opensource_url:63 - Start process Uncertainty-Based Offline Reinforcement Learning with Diversified Q-Ensemble\n",
      "  7%|▋         | 1/14 [00:03<00:49,  3.81s/it]2022-12-06 22:05:54.034 | INFO     | paper_finder.utils.paper_with_code_api:add_opensource_url:63 - Start process Detecting Errors and Estimating Accuracy on Unlabeled Data with Self-training Ensembles\n",
      " 14%|█▍        | 2/14 [00:06<00:40,  3.37s/it]2022-12-06 22:05:56.368 | INFO     | paper_finder.utils.paper_with_code_api:add_opensource_url:63 - Start process Repulsive Deep Ensembles are Bayesian\n",
      " 21%|██▏       | 3/14 [00:08<00:33,  3.06s/it]2022-12-06 22:05:58.714 | INFO     | paper_finder.utils.paper_with_code_api:add_opensource_url:63 - Start process GeoMol: Torsional Geometric Generation of Molecular 3D Conformer Ensembles\n",
      " 29%|██▊       | 4/14 [00:15<00:43,  4.39s/it]2022-12-06 22:06:06.210 | INFO     | paper_finder.utils.paper_with_code_api:add_opensource_url:63 - Start process Spatial Ensemble: a Novel Model Smoothing Mechanism for Student-Teacher Framework\n",
      " 36%|███▌      | 5/14 [00:22<00:44,  4.91s/it]2022-12-06 22:06:12.322 | INFO     | paper_finder.utils.paper_with_code_api:add_opensource_url:63 - Start process Diversity Matters When Learning From Ensembles\n",
      " 43%|████▎     | 6/14 [00:25<00:35,  4.40s/it]2022-12-06 22:06:15.544 | INFO     | paper_finder.utils.paper_with_code_api:add_opensource_url:63 - Start process Solving Soft Clustering Ensemble via $k$-Sparse Discrete Wasserstein Barycenter\n",
      " 50%|█████     | 7/14 [00:28<00:28,  4.06s/it]2022-12-06 22:06:18.804 | INFO     | paper_finder.utils.paper_with_code_api:add_opensource_url:63 - Start process Uncertainty Quantification and Deep Ensembles\n",
      " 57%|█████▋    | 8/14 [00:30<00:20,  3.46s/it]2022-12-06 22:06:20.872 | INFO     | paper_finder.utils.paper_with_code_api:add_opensource_url:63 - Start process Scaling Ensemble Distribution Distillation to Many Classes with Proxy Targets\n",
      " 64%|██████▍   | 9/14 [00:32<00:14,  2.84s/it]2022-12-06 22:06:22.271 | INFO     | paper_finder.utils.paper_with_code_api:add_opensource_url:63 - Start process Representer Point Selection via Local Jacobian Expansion for Post-hoc Classifier Explanation of Deep Neural Networks and Ensemble Models\n",
      " 71%|███████▏  | 10/14 [00:34<00:11,  2.76s/it]2022-12-06 22:06:24.839 | INFO     | paper_finder.utils.paper_with_code_api:add_opensource_url:63 - Start process Adaptive Ensemble Q-learning: Minimizing Estimation Bias via Error Feedback\n",
      " 79%|███████▊  | 11/14 [00:36<00:07,  2.63s/it]2022-12-06 22:06:27.155 | INFO     | paper_finder.utils.paper_with_code_api:add_opensource_url:63 - Start process Uncertainty Calibration for Ensemble-Based Debiasing Methods\n",
      " 86%|████████▌ | 12/14 [00:39<00:05,  2.52s/it]2022-12-06 22:06:29.436 | INFO     | paper_finder.utils.paper_with_code_api:add_opensource_url:63 - Start process TRS: Transferability Reduced Ensemble via Promoting Gradient Diversity and Model Smoothness\n",
      " 93%|█████████▎| 13/14 [00:41<00:02,  2.42s/it]2022-12-06 22:06:31.610 | INFO     | paper_finder.utils.paper_with_code_api:add_opensource_url:63 - Start process Neural Ensemble Search for Uncertainty Estimation and Dataset Shift\n",
      "100%|██████████| 14/14 [00:44<00:00,  3.16s/it]\n"
     ]
    }
   ],
   "source": [
    "df = add_opensource_url(df,output = output.replace(\".csv\",\"_增加是否有代码.csv\"))"
   ]
  },
  {
   "cell_type": "code",
   "execution_count": 10,
   "id": "46fc3306",
   "metadata": {
    "scrolled": true
   },
   "outputs": [
    {
     "data": {
      "text/html": [
       "<div>\n",
       "<style scoped>\n",
       "    .dataframe tbody tr th:only-of-type {\n",
       "        vertical-align: middle;\n",
       "    }\n",
       "\n",
       "    .dataframe tbody tr th {\n",
       "        vertical-align: top;\n",
       "    }\n",
       "\n",
       "    .dataframe thead th {\n",
       "        text-align: right;\n",
       "    }\n",
       "</style>\n",
       "<table border=\"1\" class=\"dataframe\">\n",
       "  <thead>\n",
       "    <tr style=\"text-align: right;\">\n",
       "      <th></th>\n",
       "      <th>title</th>\n",
       "      <th>code_url</th>\n",
       "      <th>code_url_official</th>\n",
       "    </tr>\n",
       "  </thead>\n",
       "  <tbody>\n",
       "    <tr>\n",
       "      <th>0</th>\n",
       "      <td>Uncertainty-Based Offline Reinforcement Learni...</td>\n",
       "      <td>https://github.com/tinkoff-ai/CORL</td>\n",
       "      <td>-</td>\n",
       "    </tr>\n",
       "    <tr>\n",
       "      <th>1</th>\n",
       "      <td>Detecting Errors and Estimating Accuracy on Un...</td>\n",
       "      <td>https://github.com/jfc43/self-training-ensembles</td>\n",
       "      <td>https://github.com/jfc43/self-training-ensembles</td>\n",
       "    </tr>\n",
       "    <tr>\n",
       "      <th>2</th>\n",
       "      <td>Repulsive Deep Ensembles are Bayesian</td>\n",
       "      <td>-</td>\n",
       "      <td>-</td>\n",
       "    </tr>\n",
       "    <tr>\n",
       "      <th>3</th>\n",
       "      <td>GeoMol: Torsional Geometric Generation of Mole...</td>\n",
       "      <td>https://github.com/PattanaikL/GeoMol</td>\n",
       "      <td>https://github.com/PattanaikL/GeoMol</td>\n",
       "    </tr>\n",
       "    <tr>\n",
       "      <th>4</th>\n",
       "      <td>Spatial Ensemble: a Novel Model Smoothing Mech...</td>\n",
       "      <td>https://github.com/tengteng95/spatial_ensemble</td>\n",
       "      <td>https://github.com/tengteng95/spatial_ensemble</td>\n",
       "    </tr>\n",
       "    <tr>\n",
       "      <th>5</th>\n",
       "      <td>Diversity Matters When Learning From Ensembles</td>\n",
       "      <td>-</td>\n",
       "      <td>-</td>\n",
       "    </tr>\n",
       "    <tr>\n",
       "      <th>6</th>\n",
       "      <td>Solving Soft Clustering Ensemble via $k$-Spars...</td>\n",
       "      <td>-</td>\n",
       "      <td>-</td>\n",
       "    </tr>\n",
       "    <tr>\n",
       "      <th>7</th>\n",
       "      <td>Uncertainty Quantification and Deep Ensembles</td>\n",
       "      <td>https://github.com/rahulrahaman/Uncertainty-Qu...</td>\n",
       "      <td>https://github.com/rahulrahaman/Uncertainty-Qu...</td>\n",
       "    </tr>\n",
       "    <tr>\n",
       "      <th>8</th>\n",
       "      <td>Scaling Ensemble Distribution Distillation to ...</td>\n",
       "      <td>https://github.com/KaosEngineer/structured-unc...</td>\n",
       "      <td>-</td>\n",
       "    </tr>\n",
       "    <tr>\n",
       "      <th>9</th>\n",
       "      <td>Representer Point Selection via Local Jacobian...</td>\n",
       "      <td>https://github.com/echoyi/rps_lje</td>\n",
       "      <td>https://github.com/echoyi/rps_lje</td>\n",
       "    </tr>\n",
       "    <tr>\n",
       "      <th>10</th>\n",
       "      <td>Adaptive Ensemble Q-learning: Minimizing Estim...</td>\n",
       "      <td>-</td>\n",
       "      <td>-</td>\n",
       "    </tr>\n",
       "    <tr>\n",
       "      <th>11</th>\n",
       "      <td>Uncertainty Calibration for Ensemble-Based Deb...</td>\n",
       "      <td>-</td>\n",
       "      <td>-</td>\n",
       "    </tr>\n",
       "    <tr>\n",
       "      <th>12</th>\n",
       "      <td>TRS: Transferability Reduced Ensemble via Prom...</td>\n",
       "      <td>-</td>\n",
       "      <td>-</td>\n",
       "    </tr>\n",
       "    <tr>\n",
       "      <th>13</th>\n",
       "      <td>Neural Ensemble Search for Uncertainty Estimat...</td>\n",
       "      <td>https://github.com/automl/nes</td>\n",
       "      <td>https://github.com/automl/nes</td>\n",
       "    </tr>\n",
       "  </tbody>\n",
       "</table>\n",
       "</div>"
      ],
      "text/plain": [
       "                                                title  \\\n",
       "0   Uncertainty-Based Offline Reinforcement Learni...   \n",
       "1   Detecting Errors and Estimating Accuracy on Un...   \n",
       "2               Repulsive Deep Ensembles are Bayesian   \n",
       "3   GeoMol: Torsional Geometric Generation of Mole...   \n",
       "4   Spatial Ensemble: a Novel Model Smoothing Mech...   \n",
       "5      Diversity Matters When Learning From Ensembles   \n",
       "6   Solving Soft Clustering Ensemble via $k$-Spars...   \n",
       "7       Uncertainty Quantification and Deep Ensembles   \n",
       "8   Scaling Ensemble Distribution Distillation to ...   \n",
       "9   Representer Point Selection via Local Jacobian...   \n",
       "10  Adaptive Ensemble Q-learning: Minimizing Estim...   \n",
       "11  Uncertainty Calibration for Ensemble-Based Deb...   \n",
       "12  TRS: Transferability Reduced Ensemble via Prom...   \n",
       "13  Neural Ensemble Search for Uncertainty Estimat...   \n",
       "\n",
       "                                             code_url  \\\n",
       "0                  https://github.com/tinkoff-ai/CORL   \n",
       "1    https://github.com/jfc43/self-training-ensembles   \n",
       "2                                                   -   \n",
       "3                https://github.com/PattanaikL/GeoMol   \n",
       "4      https://github.com/tengteng95/spatial_ensemble   \n",
       "5                                                   -   \n",
       "6                                                   -   \n",
       "7   https://github.com/rahulrahaman/Uncertainty-Qu...   \n",
       "8   https://github.com/KaosEngineer/structured-unc...   \n",
       "9                   https://github.com/echoyi/rps_lje   \n",
       "10                                                  -   \n",
       "11                                                  -   \n",
       "12                                                  -   \n",
       "13                      https://github.com/automl/nes   \n",
       "\n",
       "                                    code_url_official  \n",
       "0                                                   -  \n",
       "1    https://github.com/jfc43/self-training-ensembles  \n",
       "2                                                   -  \n",
       "3                https://github.com/PattanaikL/GeoMol  \n",
       "4      https://github.com/tengteng95/spatial_ensemble  \n",
       "5                                                   -  \n",
       "6                                                   -  \n",
       "7   https://github.com/rahulrahaman/Uncertainty-Qu...  \n",
       "8                                                   -  \n",
       "9                   https://github.com/echoyi/rps_lje  \n",
       "10                                                  -  \n",
       "11                                                  -  \n",
       "12                                                  -  \n",
       "13                      https://github.com/automl/nes  "
      ]
     },
     "execution_count": 10,
     "metadata": {},
     "output_type": "execute_result"
    }
   ],
   "source": [
    "df[['title','code_url','code_url_official']]"
   ]
  },
  {
   "cell_type": "code",
   "execution_count": null,
   "id": "2e1a6319",
   "metadata": {},
   "outputs": [],
   "source": []
  }
 ],
 "metadata": {
  "kernelspec": {
   "display_name": "Python 3",
   "language": "python",
   "name": "python3"
  },
  "language_info": {
   "codemirror_mode": {
    "name": "ipython",
    "version": 3
   },
   "file_extension": ".py",
   "mimetype": "text/x-python",
   "name": "python",
   "nbconvert_exporter": "python",
   "pygments_lexer": "ipython3",
   "version": "3.6.5"
  },
  "toc": {
   "base_numbering": 1,
   "nav_menu": {},
   "number_sections": true,
   "sideBar": true,
   "skip_h1_title": false,
   "title_cell": "Table of Contents",
   "title_sidebar": "Contents",
   "toc_cell": false,
   "toc_position": {},
   "toc_section_display": true,
   "toc_window_display": true
  }
 },
 "nbformat": 4,
 "nbformat_minor": 5
}
