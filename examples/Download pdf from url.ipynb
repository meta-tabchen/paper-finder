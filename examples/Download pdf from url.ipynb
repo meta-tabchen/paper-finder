{
 "cells": [
  {
   "cell_type": "code",
   "execution_count": 1,
   "metadata": {},
   "outputs": [],
   "source": [
    "import requests\n",
    "from bs4 import BeautifulSoup\n",
    "import os\n",
    "# 20210607更新，防止HTTP403错误\n",
    "head = {\n",
    "    'user-agent': 'Mozilla/5.0 (Windows NT 10.0; Win64; x64) AppleWebKit/537.36 (KHTML, like Gecko) Chrome/79.0.3945.117 Safari/537.36'}\n",
    "\n",
    "\n",
    "def download_pdf_from_url(url, save_path):\n",
    "    try:\n",
    "        download_r = requests.get(url, headers=head)\n",
    "        download_r.raise_for_status()\n",
    "        with open(save_path, \"wb+\") as temp:\n",
    "            temp.write(download_r.content)\n",
    "        state = \"success\"\n",
    "    except:\n",
    "        state = \"fail\"\n",
    "    return state"
   ]
  },
  {
   "cell_type": "code",
   "execution_count": 2,
   "metadata": {},
   "outputs": [],
   "source": [
    "import pandas as pd"
   ]
  },
  {
   "cell_type": "code",
   "execution_count": 3,
   "metadata": {},
   "outputs": [
    {
     "data": {
      "text/plain": [
       "179"
      ]
     },
     "execution_count": 3,
     "metadata": {},
     "output_type": "execute_result"
    }
   ],
   "source": [
    "df = pd.read_excel(\"2023论文走查-数学、推理.xlsx\")\n",
    "len(df)"
   ]
  },
  {
   "cell_type": "code",
   "execution_count": 4,
   "metadata": {
    "scrolled": true
   },
   "outputs": [
    {
     "data": {
      "text/plain": [
       "107"
      ]
     },
     "execution_count": 4,
     "metadata": {},
     "output_type": "execute_result"
    }
   ],
   "source": [
    "df = df[~df['url_pdf'].isna()]\n",
    "df = df[df['是否阅读']==1]\n",
    "len(df)"
   ]
  },
  {
   "cell_type": "code",
   "execution_count": 5,
   "metadata": {},
   "outputs": [],
   "source": [
    "save_dir = \"pdfs2\""
   ]
  },
  {
   "cell_type": "code",
   "execution_count": 6,
   "metadata": {},
   "outputs": [],
   "source": [
    "def download_from_df_url(df,save_dir):\n",
    "    state_list = []\n",
    "    save_path_list = []\n",
    "    for _,row in df.iterrows():\n",
    "        title = row['title']\n",
    "        venue_save_dir = os.path.join(save_dir,row['venue'])\n",
    "        os.makedirs(venue_save_dir,exist_ok=True)\n",
    "        save_path = os.path.join(venue_save_dir,f\"{title}.pdf\")\n",
    "        if not os.path.exists(save_path):\n",
    "            state = download_pdf_from_url(row['url_pdf'],save_path)\n",
    "        else:\n",
    "            state = \"success\"\n",
    "        state_list.append(state)\n",
    "        if state:\n",
    "            save_path_list.append(save_path)\n",
    "        else:\n",
    "            save_path_list.append(\"\")\n",
    "    df['state'] = state_list\n",
    "    df['save_path'] = save_path_list\n",
    "    return df"
   ]
  },
  {
   "cell_type": "code",
   "execution_count": 8,
   "metadata": {},
   "outputs": [],
   "source": [
    "df_downloaded = download_from_df_url(df,save_dir)"
   ]
  },
  {
   "cell_type": "code",
   "execution_count": 10,
   "metadata": {
    "scrolled": true
   },
   "outputs": [
    {
     "data": {
      "text/plain": [
       "0      pdfs2/ACL/A Survey of Deep Learning for Mathem...\n",
       "1      pdfs2/ACL/World Models for Math Story Problems...\n",
       "2      pdfs2/ACL/Learning by Analogy: Diverse Questio...\n",
       "3      pdfs2/EMNLP/Non-Autoregressive Math Word Probl...\n",
       "6      pdfs2/ACL/In-Context Analogical Reasoning with...\n",
       "                             ...                        \n",
       "162    pdfs2/EMNLP/Conic10K: A Challenging Math Probl...\n",
       "163    pdfs2/EMNLP/TRIGO: Benchmarking Formal Mathema...\n",
       "164    pdfs2/EMNLP/ATHENA: Mathematical Reasoning wit...\n",
       "174    pdfs2/EMNLP/POE: Process of Elimination for Mu...\n",
       "178    pdfs2/CIKM/A Bipartite Graph is All We Need fo...\n",
       "Name: save_path, Length: 107, dtype: object"
      ]
     },
     "execution_count": 10,
     "metadata": {},
     "output_type": "execute_result"
    }
   ],
   "source": [
    "df_downloaded['save_path']"
   ]
  },
  {
   "cell_type": "code",
   "execution_count": null,
   "metadata": {},
   "outputs": [],
   "source": []
  }
 ],
 "metadata": {
  "kernelspec": {
   "display_name": "Python 3",
   "language": "python",
   "name": "python3"
  },
  "language_info": {
   "codemirror_mode": {
    "name": "ipython",
    "version": 3
   },
   "file_extension": ".py",
   "mimetype": "text/x-python",
   "name": "python",
   "nbconvert_exporter": "python",
   "pygments_lexer": "ipython3",
   "version": "3.7.4"
  },
  "toc": {
   "base_numbering": 1,
   "nav_menu": {},
   "number_sections": true,
   "sideBar": true,
   "skip_h1_title": false,
   "title_cell": "Table of Contents",
   "title_sidebar": "Contents",
   "toc_cell": false,
   "toc_position": {},
   "toc_section_display": true,
   "toc_window_display": false
  }
 },
 "nbformat": 4,
 "nbformat_minor": 2
}
